{
 "cells": [
  {
   "cell_type": "markdown",
   "metadata": {
    "id": "Rzh8pcvmtOS8"
   },
   "source": [
    "## **Model Building**"
   ]
  },
  {
   "cell_type": "code",
   "execution_count": 1,
   "metadata": {},
   "outputs": [],
   "source": [
    "import pandas as pd\n",
    "import numpy as np\n",
    "import sklearn.metrics as metrics\n",
    "\n",
    "cars_data = pd.read_csv(\"cars_data_updated.csv\")"
   ]
  },
  {
   "cell_type": "code",
   "execution_count": 2,
   "metadata": {
    "id": "NTly1jIxtOS8"
   },
   "outputs": [],
   "source": [
    "# Independent variables in X (predictors)\n",
    "# We drop 'Name' since we split that column into Brand and Model\n",
    "# We drop 'Price' and 'price_log' since they are dependent variables\n",
    "# We drop 'Kilometers_Driven' since we took the log of that column and the original is not needed\n",
    "X = cars_data.drop(['Name','Price','price_log','Kilometers_Driven'], axis = 1)\n",
    "\n",
    "# Dependent variable in y (target)\n",
    "y = cars_data[[\"price_log\", \"Price\"]]"
   ]
  },
  {
   "cell_type": "code",
   "execution_count": 3,
   "metadata": {
    "id": "vzCLGMzbVL3f"
   },
   "outputs": [],
   "source": [
    "# Uses one-hot encoding to convert categorical features into numerical values \n",
    "X = pd.get_dummies(X, drop_first = True)"
   ]
  },
  {
   "cell_type": "code",
   "execution_count": 4,
   "metadata": {},
   "outputs": [],
   "source": [
    "from sklearn.model_selection import train_test_split"
   ]
  },
  {
   "cell_type": "code",
   "execution_count": 5,
   "metadata": {
    "id": "JqVHLEHVRRKK"
   },
   "outputs": [
    {
     "name": "stdout",
     "output_type": "stream",
     "text": [
      "(5076, 275) (2176, 275)\n"
     ]
    }
   ],
   "source": [
    "# Splitting data into training and test set\n",
    "X_train, X_test, y_train, y_test = train_test_split(X, y, test_size = 0.3, random_state = 1)\n",
    "print(X_train.shape, X_test.shape)"
   ]
  },
  {
   "cell_type": "code",
   "execution_count": 6,
   "metadata": {
    "id": "glAH2vMFtOS8"
   },
   "outputs": [],
   "source": [
    "# Function for calculating r2 value and RMSE on train and test data\n",
    "# Takes model as input\n",
    "\n",
    "def get_model_score(model, flag = True):\n",
    "    '''\n",
    "    model : regressor to predict values of X\n",
    "\n",
    "    '''\n",
    "    score_list = [] \n",
    "    \n",
    "    pred_train = model.predict(X_train)\n",
    "    pred_train_ = np.exp(pred_train)\n",
    "    \n",
    "    pred_test = model.predict(X_test)\n",
    "    pred_test_ = np.exp(pred_test)\n",
    "    \n",
    "    train_r2 = metrics.r2_score(y_train['Price'], pred_train_)\n",
    "    test_r2 = metrics.r2_score(y_test['Price'], pred_test_)\n",
    "    \n",
    "    train_rmse = metrics.mean_squared_error(y_train['Price'], pred_train_, squared = False)\n",
    "    test_rmse = metrics.mean_squared_error(y_test['Price'], pred_test_, squared = False)\n",
    "    \n",
    "    score_list.extend((train_r2, test_r2, train_rmse, test_rmse))\n",
    "    \n",
    "    if flag == True: \n",
    "        print(\"R-sqaure on training set : \", metrics.r2_score(y_train['Price'], pred_train_))\n",
    "        print(\"R-square on test set : \", metrics.r2_score(y_test['Price'], pred_test_))\n",
    "        print(\"RMSE on training set : \", np.sqrt(metrics.mean_squared_error(y_train['Price'], pred_train_)))\n",
    "        print(\"RMSE on test set : \", np.sqrt(metrics.mean_squared_error(y_test['Price'], pred_test_)))\n",
    "\n",
    "    return score_list"
   ]
  },
  {
   "cell_type": "markdown",
   "metadata": {
    "id": "o8qcI692VL3g"
   },
   "source": [
    "<hr>"
   ]
  },
  {
   "cell_type": "markdown",
   "metadata": {
    "id": "gaj2riZFVL3g"
   },
   "source": [
    "I will use the following models to predict the Price:\n",
    "\n",
    "**1) Linear Regression** <br>\n",
    "**2) Ridge / Lasso Regression** <br>\n",
    "**3) Decision Trees** <br>\n",
    "**4) Random Forest** <br>"
   ]
  },
  {
   "cell_type": "markdown",
   "metadata": {
    "id": "xwL33RaztOS9"
   },
   "source": [
    "### **Linear Regression**"
   ]
  },
  {
   "cell_type": "code",
   "execution_count": 7,
   "metadata": {
    "id": "tABeKbbNVL3h"
   },
   "outputs": [],
   "source": [
    "from sklearn.linear_model import LinearRegression"
   ]
  },
  {
   "cell_type": "code",
   "execution_count": 8,
   "metadata": {
    "id": "FT3gcKDetOS9"
   },
   "outputs": [
    {
     "data": {
      "text/html": [
       "<style>#sk-container-id-1 {color: black;}#sk-container-id-1 pre{padding: 0;}#sk-container-id-1 div.sk-toggleable {background-color: white;}#sk-container-id-1 label.sk-toggleable__label {cursor: pointer;display: block;width: 100%;margin-bottom: 0;padding: 0.3em;box-sizing: border-box;text-align: center;}#sk-container-id-1 label.sk-toggleable__label-arrow:before {content: \"▸\";float: left;margin-right: 0.25em;color: #696969;}#sk-container-id-1 label.sk-toggleable__label-arrow:hover:before {color: black;}#sk-container-id-1 div.sk-estimator:hover label.sk-toggleable__label-arrow:before {color: black;}#sk-container-id-1 div.sk-toggleable__content {max-height: 0;max-width: 0;overflow: hidden;text-align: left;background-color: #f0f8ff;}#sk-container-id-1 div.sk-toggleable__content pre {margin: 0.2em;color: black;border-radius: 0.25em;background-color: #f0f8ff;}#sk-container-id-1 input.sk-toggleable__control:checked~div.sk-toggleable__content {max-height: 200px;max-width: 100%;overflow: auto;}#sk-container-id-1 input.sk-toggleable__control:checked~label.sk-toggleable__label-arrow:before {content: \"▾\";}#sk-container-id-1 div.sk-estimator input.sk-toggleable__control:checked~label.sk-toggleable__label {background-color: #d4ebff;}#sk-container-id-1 div.sk-label input.sk-toggleable__control:checked~label.sk-toggleable__label {background-color: #d4ebff;}#sk-container-id-1 input.sk-hidden--visually {border: 0;clip: rect(1px 1px 1px 1px);clip: rect(1px, 1px, 1px, 1px);height: 1px;margin: -1px;overflow: hidden;padding: 0;position: absolute;width: 1px;}#sk-container-id-1 div.sk-estimator {font-family: monospace;background-color: #f0f8ff;border: 1px dotted black;border-radius: 0.25em;box-sizing: border-box;margin-bottom: 0.5em;}#sk-container-id-1 div.sk-estimator:hover {background-color: #d4ebff;}#sk-container-id-1 div.sk-parallel-item::after {content: \"\";width: 100%;border-bottom: 1px solid gray;flex-grow: 1;}#sk-container-id-1 div.sk-label:hover label.sk-toggleable__label {background-color: #d4ebff;}#sk-container-id-1 div.sk-serial::before {content: \"\";position: absolute;border-left: 1px solid gray;box-sizing: border-box;top: 0;bottom: 0;left: 50%;z-index: 0;}#sk-container-id-1 div.sk-serial {display: flex;flex-direction: column;align-items: center;background-color: white;padding-right: 0.2em;padding-left: 0.2em;position: relative;}#sk-container-id-1 div.sk-item {position: relative;z-index: 1;}#sk-container-id-1 div.sk-parallel {display: flex;align-items: stretch;justify-content: center;background-color: white;position: relative;}#sk-container-id-1 div.sk-item::before, #sk-container-id-1 div.sk-parallel-item::before {content: \"\";position: absolute;border-left: 1px solid gray;box-sizing: border-box;top: 0;bottom: 0;left: 50%;z-index: -1;}#sk-container-id-1 div.sk-parallel-item {display: flex;flex-direction: column;z-index: 1;position: relative;background-color: white;}#sk-container-id-1 div.sk-parallel-item:first-child::after {align-self: flex-end;width: 50%;}#sk-container-id-1 div.sk-parallel-item:last-child::after {align-self: flex-start;width: 50%;}#sk-container-id-1 div.sk-parallel-item:only-child::after {width: 0;}#sk-container-id-1 div.sk-dashed-wrapped {border: 1px dashed gray;margin: 0 0.4em 0.5em 0.4em;box-sizing: border-box;padding-bottom: 0.4em;background-color: white;}#sk-container-id-1 div.sk-label label {font-family: monospace;font-weight: bold;display: inline-block;line-height: 1.2em;}#sk-container-id-1 div.sk-label-container {text-align: center;}#sk-container-id-1 div.sk-container {/* jupyter's `normalize.less` sets `[hidden] { display: none; }` but bootstrap.min.css set `[hidden] { display: none !important; }` so we also need the `!important` here to be able to override the default hidden behavior on the sphinx rendered scikit-learn.org. See: https://github.com/scikit-learn/scikit-learn/issues/21755 */display: inline-block !important;position: relative;}#sk-container-id-1 div.sk-text-repr-fallback {display: none;}</style><div id=\"sk-container-id-1\" class=\"sk-top-container\"><div class=\"sk-text-repr-fallback\"><pre>LinearRegression()</pre><b>In a Jupyter environment, please rerun this cell to show the HTML representation or trust the notebook. <br />On GitHub, the HTML representation is unable to render, please try loading this page with nbviewer.org.</b></div><div class=\"sk-container\" hidden><div class=\"sk-item\"><div class=\"sk-estimator sk-toggleable\"><input class=\"sk-toggleable__control sk-hidden--visually\" id=\"sk-estimator-id-1\" type=\"checkbox\" checked><label for=\"sk-estimator-id-1\" class=\"sk-toggleable__label sk-toggleable__label-arrow\">LinearRegression</label><div class=\"sk-toggleable__content\"><pre>LinearRegression()</pre></div></div></div></div></div>"
      ],
      "text/plain": [
       "LinearRegression()"
      ]
     },
     "execution_count": 8,
     "metadata": {},
     "output_type": "execute_result"
    }
   ],
   "source": [
    "lr = LinearRegression()\n",
    "lr.fit(X_train, y_train['price_log'])"
   ]
  },
  {
   "cell_type": "code",
   "execution_count": 9,
   "metadata": {
    "id": "ABshmMPAtOS9"
   },
   "outputs": [
    {
     "name": "stdout",
     "output_type": "stream",
     "text": [
      "R-sqaure on training set :  0.9193878014791699\n",
      "R-square on test set :  0.8642631469804376\n",
      "RMSE on training set :  3.050342028500473\n",
      "RMSE on test set :  3.94290688639171\n"
     ]
    }
   ],
   "source": [
    "LR_score = get_model_score(lr)"
   ]
  },
  {
   "cell_type": "markdown",
   "metadata": {
    "id": "NgNkZ0HctOS9"
   },
   "source": [
    "**Observations from results:**\n",
    "\n",
    "The R-squared value on the training set is about 0.92, which is very high. This is good because it means that our model fits really well with our training data.\n",
    "\n",
    "The RMSE on the training set is 3.05, which is fairly high for our model."
   ]
  },
  {
   "cell_type": "markdown",
   "metadata": {
    "id": "RNN1nlPqIrdC"
   },
   "source": [
    "**Important variables of Linear Regression**"
   ]
  },
  {
   "cell_type": "code",
   "execution_count": 10,
   "metadata": {},
   "outputs": [],
   "source": [
    "# Convert boolean columns to integers\n",
    "X_train = X_train.astype({col: 'int' for col in X_train.select_dtypes('bool').columns})\n",
    "X_train = X_train.apply(pd.to_numeric, errors='coerce')"
   ]
  },
  {
   "cell_type": "code",
   "execution_count": 11,
   "metadata": {
    "id": "vHyqhuVMIrdC",
    "scrolled": true
   },
   "outputs": [
    {
     "name": "stdout",
     "output_type": "stream",
     "text": [
      "                            OLS Regression Results                            \n",
      "==============================================================================\n",
      "Dep. Variable:              price_log   R-squared:                       0.941\n",
      "Model:                            OLS   Adj. R-squared:                  0.939\n",
      "Method:                 Least Squares   F-statistic:                     329.6\n",
      "Date:                Tue, 28 Jan 2025   Prob (F-statistic):               0.00\n",
      "Time:                        15:47:34   Log-Likelihood:                 795.45\n",
      "No. Observations:                5076   AIC:                            -1117.\n",
      "Df Residuals:                    4839   BIC:                             431.3\n",
      "Df Model:                         236                                         \n",
      "Covariance Type:            nonrobust                                         \n",
      "=============================================================================================\n",
      "                                coef    std err          t      P>|t|      [0.025      0.975]\n",
      "---------------------------------------------------------------------------------------------\n",
      "const                      -172.5966      3.172    -54.408      0.000    -178.816    -166.378\n",
      "Year                          0.0895      0.002     55.530      0.000       0.086       0.093\n",
      "Mileage                       0.0031      0.002      1.602      0.109      -0.001       0.007\n",
      "Engine                    -7.358e-05   2.35e-05     -3.125      0.002      -0.000   -2.74e-05\n",
      "Power                         0.0025      0.000     10.234      0.000       0.002       0.003\n",
      "Seats                         0.0116      0.015      0.761      0.447      -0.018       0.041\n",
      "New_price                     0.0066      0.001      5.036      0.000       0.004       0.009\n",
      "kilometers_driven_log        -0.0622      0.006    -10.456      0.000      -0.074      -0.051\n",
      "Location_Bangalore            0.1451      0.020      7.200      0.000       0.106       0.185\n",
      "Location_Chennai              0.0456      0.019      2.376      0.018       0.008       0.083\n",
      "Location_Coimbatore           0.0998      0.018      5.397      0.000       0.064       0.136\n",
      "Location_Delhi               -0.0711      0.019     -3.830      0.000      -0.107      -0.035\n",
      "Location_Hyderabad            0.1300      0.018      7.270      0.000       0.095       0.165\n",
      "Location_Jaipur              -0.0130      0.020     -0.663      0.507      -0.052       0.026\n",
      "Location_Kochi               -0.0141      0.018     -0.768      0.443      -0.050       0.022\n",
      "Location_Kolkata             -0.1785      0.019     -9.495      0.000      -0.215      -0.142\n",
      "Location_Mumbai              -0.0502      0.018     -2.808      0.005      -0.085      -0.015\n",
      "Location_Pune                -0.0201      0.018     -1.096      0.273      -0.056       0.016\n",
      "Fuel_Type_Diesel              0.0389      0.034      1.138      0.255      -0.028       0.106\n",
      "Fuel_Type_Electric         3.388e-13   6.46e-15     52.471      0.000    3.26e-13    3.51e-13\n",
      "Fuel_Type_LPG                -0.0193      0.088     -0.220      0.826      -0.191       0.153\n",
      "Fuel_Type_Petrol             -0.0272      0.036     -0.764      0.445      -0.097       0.043\n",
      "Transmission_Manual          -0.0943      0.011     -8.613      0.000      -0.116      -0.073\n",
      "Owner_Type_Fourth & Above     0.0113      0.070      0.162      0.871      -0.125       0.148\n",
      "Owner_Type_Second            -0.0521      0.009     -5.720      0.000      -0.070      -0.034\n",
      "Owner_Type_Third             -0.1390      0.024     -5.863      0.000      -0.186      -0.093\n",
      "Brand_Audi                   -3.9747      0.130    -30.600      0.000      -4.229      -3.720\n",
      "Brand_BMW                    -4.6232      0.180    -25.698      0.000      -4.976      -4.271\n",
      "Brand_Bentley                -3.9162      0.199    -19.684      0.000      -4.306      -3.526\n",
      "Brand_Chevrolet              -5.1937      0.125    -41.574      0.000      -5.439      -4.949\n",
      "Brand_Datsun                 -4.6922      0.120    -39.250      0.000      -4.927      -4.458\n",
      "Brand_Fiat                   -5.2337      0.127    -41.198      0.000      -5.483      -4.985\n",
      "Brand_Force                  -2.4487      0.102    -23.911      0.000      -2.649      -2.248\n",
      "Brand_Ford                   -0.3781      0.301     -1.256      0.209      -0.968       0.212\n",
      "Brand_Hindustan              -1.8426      0.121    -15.236      0.000      -2.080      -1.606\n",
      "Brand_Honda                  -4.9965      0.126    -39.681      0.000      -5.243      -4.750\n",
      "Brand_Hyundai                -5.8526      0.176    -33.232      0.000      -6.198      -5.507\n",
      "Brand_ISUZU                  -2.5290      0.094    -26.853      0.000      -2.714      -2.344\n",
      "Brand_Isuzu                  -3.4307      0.139    -24.755      0.000      -3.702      -3.159\n",
      "Brand_Jaguar                 -3.2026      0.113    -28.340      0.000      -3.424      -2.981\n",
      "Brand_Jeep                   -2.4382      0.076    -31.982      0.000      -2.588      -2.289\n",
      "Brand_Lamborghini          1.464e-13   2.93e-15     50.038      0.000    1.41e-13    1.52e-13\n",
      "Brand_Land                   -2.3088      0.094    -24.518      0.000      -2.493      -2.124\n",
      "Brand_Mahindra               -5.0892      0.132    -38.557      0.000      -5.348      -4.830\n",
      "Brand_Maruti                 -5.3704      0.148    -36.349      0.000      -5.660      -5.081\n",
      "Brand_Mercedes-Benz          -4.0531      0.149    -27.250      0.000      -4.345      -3.761\n",
      "Brand_Mini                   -3.2946      0.120    -27.379      0.000      -3.531      -3.059\n",
      "Brand_Mitsubishi             -4.1952      0.127    -32.934      0.000      -4.445      -3.945\n",
      "Brand_Nissan                 -4.6866      0.124    -37.778      0.000      -4.930      -4.443\n",
      "Brand_OpelCorsa             1.02e-13   3.19e-15     32.018      0.000    9.58e-14    1.08e-13\n",
      "Brand_Porsche                -2.9471      0.121    -24.297      0.000      -3.185      -2.709\n",
      "Brand_Renault                -4.8893      0.126    -38.706      0.000      -5.137      -4.642\n",
      "Brand_Skoda                  -4.5879      0.116    -39.431      0.000      -4.816      -4.360\n",
      "Brand_Smart                  -2.7564      0.126    -21.931      0.000      -3.003      -2.510\n",
      "Brand_Tata                   -5.0751      0.168    -30.136      0.000      -5.405      -4.745\n",
      "Brand_Toyota                 -4.5017      0.129    -34.999      0.000      -4.754      -4.250\n",
      "Brand_Volkswagen             -4.6323      0.123    -37.627      0.000      -4.874      -4.391\n",
      "Brand_Volvo                  -3.8488      0.122    -31.546      0.000      -4.088      -3.610\n",
      "Model_1.4Gsi              -6.708e-14      3e-15    -22.373      0.000    -7.3e-14   -6.12e-14\n",
      "Model_1000                   -0.5103      0.223     -2.289      0.022      -0.947      -0.073\n",
      "Model_3                      -0.2192      0.137     -1.604      0.109      -0.487       0.049\n",
      "Model_370Z                  4.72e-14   5.26e-15      8.976      0.000    3.69e-14    5.75e-14\n",
      "Model_5                      -0.0174      0.146     -0.120      0.905      -0.303       0.268\n",
      "Model_6                       0.7135      0.168      4.251      0.000       0.384       1.043\n",
      "Model_7                      -0.2894      0.234     -1.238      0.216      -0.747       0.169\n",
      "Model_800                    -1.1184      0.114     -9.790      0.000      -1.342      -0.894\n",
      "Model_A                      -0.6478      0.105     -6.141      0.000      -0.855      -0.441\n",
      "Model_A-Star                 -0.5131      0.093     -5.515      0.000      -0.695      -0.331\n",
      "Model_A3                     -0.7577      0.105     -7.240      0.000      -0.963      -0.553\n",
      "Model_A4                     -0.7972      0.047    -16.812      0.000      -0.890      -0.704\n",
      "Model_A6                     -0.7480      0.057    -13.202      0.000      -0.859      -0.637\n",
      "Model_A7                      0.1343      0.201      0.668      0.504      -0.260       0.529\n",
      "Model_A8                      0.1576      0.149      1.058      0.290      -0.134       0.450\n",
      "Model_Abarth                 -0.6765      0.193     -3.509      0.000      -1.055      -0.299\n",
      "Model_Accent                 -0.0602      0.134     -0.449      0.654      -0.323       0.203\n",
      "Model_Accord                 -0.2723      0.049     -5.559      0.000      -0.368      -0.176\n",
      "Model_Alto                   -0.6742      0.080     -8.408      0.000      -0.831      -0.517\n",
      "Model_Amaze                  -0.6390      0.034    -18.989      0.000      -0.705      -0.573\n",
      "Model_Ameo                   -1.0416      0.061    -16.975      0.000      -1.162      -0.921\n",
      "Model_Aspire                 -5.0510      0.258    -19.602      0.000      -5.556      -4.546\n",
      "Model_Aveo                   -0.9848      0.064    -15.431      0.000      -1.110      -0.860\n",
      "Model_Avventura              -0.3735      0.108     -3.467      0.001      -0.585      -0.162\n",
      "Model_B                      -0.7928      0.108     -7.319      0.000      -1.005      -0.580\n",
      "Model_BR-V                   -0.4161      0.141     -2.950      0.003      -0.693      -0.140\n",
      "Model_BRV                    -0.3651      0.086     -4.259      0.000      -0.533      -0.197\n",
      "Model_Baleno                 -0.1083      0.081     -1.336      0.182      -0.267       0.051\n",
      "Model_Beat                   -0.8469      0.046    -18.240      0.000      -0.938      -0.756\n",
      "Model_Beetle                 8.5e-15   8.72e-16      9.743      0.000    6.79e-15    1.02e-14\n",
      "Model_Bolero                 -0.2244      0.064     -3.492      0.000      -0.350      -0.098\n",
      "Model_Bolt                   -0.6979      0.184     -3.790      0.000      -1.059      -0.337\n",
      "Model_Boxster             -1.258e-14   9.47e-16    -13.289      0.000   -1.44e-14   -1.07e-14\n",
      "Model_Brio                   -0.7610      0.037    -20.294      0.000      -0.834      -0.687\n",
      "Model_C-Class                -0.5733      0.171     -3.348      0.001      -0.909      -0.238\n",
      "Model_CLA                    -0.5291      0.104     -5.109      0.000      -0.732      -0.326\n",
      "Model_CLS-Class               0.1936      0.225      0.859      0.390      -0.248       0.635\n",
      "Model_CR-V                   -0.1117      0.054     -2.055      0.040      -0.218      -0.005\n",
      "Model_Camry                  -0.1743      0.084     -2.074      0.038      -0.339      -0.010\n",
      "Model_Captiva                -0.3402      0.140     -2.438      0.015      -0.614      -0.067\n",
      "Model_Captur                 -0.2863      0.115     -2.486      0.013      -0.512      -0.061\n",
      "Model_Cayenne                -2.2913      0.149    -15.393      0.000      -2.583      -2.000\n",
      "Model_Cayman                 -0.1185      0.178     -0.666      0.506      -0.468       0.231\n",
      "Model_Cedia                  -1.2873      0.186     -6.930      0.000      -1.652      -0.923\n",
      "Model_Celerio                -0.4740      0.083     -5.687      0.000      -0.637      -0.311\n",
      "Model_Ciaz                    0.0490      0.080      0.613      0.540      -0.108       0.206\n",
      "Model_City                   -0.3878      0.027    -14.408      0.000      -0.441      -0.335\n",
      "Model_Civic                  -0.5642      0.043    -13.026      0.000      -0.649      -0.479\n",
      "Model_Classic                -5.5857      0.185    -30.159      0.000      -5.949      -5.223\n",
      "Model_Clubman                -1.0512      0.131     -8.000      0.000      -1.309      -0.794\n",
      "Model_Compass                -2.4382      0.076    -31.982      0.000      -2.588      -2.289\n",
      "Model_Continental             0.5990      0.237      2.523      0.012       0.134       1.064\n",
      "Model_Cooper                 -1.1043      0.082    -13.388      0.000      -1.266      -0.943\n",
      "Model_Corolla                -0.7094      0.052    -13.637      0.000      -0.811      -0.607\n",
      "Model_Countryman             -1.1391      0.170     -6.708      0.000      -1.472      -0.806\n",
      "Model_Creta                   0.8336      0.127      6.564      0.000       0.585       1.083\n",
      "Model_CrossPolo              -0.9039      0.099     -9.094      0.000      -1.099      -0.709\n",
      "Model_Cruze                  -0.2210      0.061     -3.609      0.000      -0.341      -0.101\n",
      "Model_D-MAX                  -2.5290      0.094    -26.853      0.000      -2.714      -2.344\n",
      "Model_Duster                 -0.4330      0.046     -9.498      0.000      -0.522      -0.344\n",
      "Model_Dzire                  -0.1326      0.092     -1.446      0.148      -0.312       0.047\n",
      "Model_E                   -1.357e-15   4.99e-16     -2.717      0.007   -2.34e-15   -3.78e-16\n",
      "Model_E-Class                -0.7283      0.112     -6.500      0.000      -0.948      -0.509\n",
      "Model_EON                    -0.2059      0.125     -1.649      0.099      -0.451       0.039\n",
      "Model_EcoSport               -4.9631      0.231    -21.452      0.000      -5.417      -4.509\n",
      "Model_Ecosport               -4.9465      0.230    -21.480      0.000      -5.398      -4.495\n",
      "Model_Eeco                   -0.5082      0.098     -5.187      0.000      -0.700      -0.316\n",
      "Model_Elantra                 0.7440      0.132      5.654      0.000       0.486       1.002\n",
      "Model_Elite                   0.4635      0.136      3.409      0.001       0.197       0.730\n",
      "Model_Endeavour              -4.3627      0.237    -18.390      0.000      -4.828      -3.898\n",
      "Model_Enjoy                  -0.5640      0.088     -6.419      0.000      -0.736      -0.392\n",
      "Model_Ertiga                  0.0793      0.085      0.929      0.353      -0.088       0.247\n",
      "Model_Esteem                 -0.9597      0.129     -7.441      0.000      -1.213      -0.707\n",
      "Model_Estilo                 -0.5706      0.142     -4.009      0.000      -0.850      -0.292\n",
      "Model_Etios                  -1.0722      0.056    -19.089      0.000      -1.182      -0.962\n",
      "Model_Evalia                 -1.0817      0.187     -5.778      0.000      -1.449      -0.715\n",
      "Model_F                    1.571e-15   5.16e-16      3.044      0.002    5.59e-16    2.58e-15\n",
      "Model_Fabia                  -1.2932      0.064    -20.271      0.000      -1.418      -1.168\n",
      "Model_Fiesta                 -5.3601      0.232    -23.144      0.000      -5.814      -4.906\n",
      "Model_Figo                   -5.4071      0.230    -23.488      0.000      -5.858      -4.956\n",
      "Model_Fluence                -0.6513      0.138     -4.729      0.000      -0.921      -0.381\n",
      "Model_Flying                 -4.5152      0.351    -12.859      0.000      -5.204      -3.827\n",
      "Model_Fortuner               -0.0337      0.054     -0.619      0.536      -0.141       0.073\n",
      "Model_Fortwo                 -2.7564      0.126    -21.931      0.000      -3.003      -2.510\n",
      "Model_Freestyle              -5.3286      0.307    -17.337      0.000      -5.931      -4.726\n",
      "Model_Fusion                 -5.1364      0.307    -16.742      0.000      -5.738      -4.535\n",
      "Model_GL-Class                0.2770      0.104      2.652      0.008       0.072       0.482\n",
      "Model_GLA                    -0.4926      0.101     -4.872      0.000      -0.691      -0.294\n",
      "Model_GLC                    -0.2414      0.127     -1.901      0.057      -0.490       0.008\n",
      "Model_GLE                    -0.2502      0.132     -1.898      0.058      -0.509       0.008\n",
      "Model_GLS                    -0.2566      0.246     -1.045      0.296      -0.738       0.225\n",
      "Model_GO                     -1.3986      0.091    -15.389      0.000      -1.577      -1.220\n",
      "Model_Gallardo             3.704e-16   1.81e-16      2.043      0.041    1.49e-17    7.26e-16\n",
      "Model_Getz                   -0.2188      0.142     -1.539      0.124      -0.498       0.060\n",
      "Model_Grand                   0.1671      0.123      1.357      0.175      -0.074       0.409\n",
      "Model_Grande                 -0.7356      0.107     -6.859      0.000      -0.946      -0.525\n",
      "Model_Hexa                    0.0463      0.182      0.254      0.800      -0.311       0.403\n",
      "Model_Ignis                  -0.3661      0.110     -3.320      0.001      -0.582      -0.150\n",
      "Model_Ikon                   -5.7166      0.234    -24.449      0.000      -6.175      -5.258\n",
      "Model_Indica                 -1.1987      0.115    -10.423      0.000      -1.424      -0.973\n",
      "Model_Indigo                 -1.1188      0.118     -9.447      0.000      -1.351      -0.887\n",
      "Model_Innova                 -0.2690      0.050     -5.409      0.000      -0.366      -0.171\n",
      "Model_Jazz                   -0.5633      0.037    -15.246      0.000      -0.636      -0.491\n",
      "Model_Jeep                   -0.4476      0.200     -2.239      0.025      -0.840      -0.056\n",
      "Model_Jetta                  -0.4004      0.056     -7.196      0.000      -0.509      -0.291\n",
      "Model_KUV                    -0.6992      0.070    -10.058      0.000      -0.836      -0.563\n",
      "Model_KWID                   -1.2267      0.055    -22.298      0.000      -1.335      -1.119\n",
      "Model_Koleos                 -0.1806      0.103     -1.758      0.079      -0.382       0.021\n",
      "Model_Lancer                 -1.0887      0.140     -7.751      0.000      -1.364      -0.813\n",
      "Model_Land                   -1.0351      0.193     -5.354      0.000      -1.414      -0.656\n",
      "Model_Laura                  -0.7467      0.045    -16.732      0.000      -0.834      -0.659\n",
      "Model_Linea                  -0.5116      0.083     -6.179      0.000      -0.674      -0.349\n",
      "Model_Lodgy                  -0.4593      0.144     -3.193      0.001      -0.741      -0.177\n",
      "Model_Logan                  -0.9946      0.145     -6.873      0.000      -1.278      -0.711\n",
      "Model_M-Class                 0.0520      0.094      0.553      0.580      -0.132       0.236\n",
      "Model_MU                     -2.0769      0.166    -12.482      0.000      -2.403      -1.751\n",
      "Model_MUX                    -1.3538      0.166     -8.176      0.000      -1.678      -1.029\n",
      "Model_Manza                  -0.9352      0.123     -7.611      0.000      -1.176      -0.694\n",
      "Model_Micra                  -1.1499      0.057    -20.107      0.000      -1.262      -1.038\n",
      "Model_Mobilio                -0.5294      0.057     -9.233      0.000      -0.642      -0.417\n",
      "Model_Montero                -0.4323      0.188     -2.305      0.021      -0.800      -0.065\n",
      "Model_Motors                 -1.8426      0.121    -15.236      0.000      -2.080      -1.606\n",
      "Model_Mustang                -4.1278      0.321    -12.864      0.000      -4.757      -3.499\n",
      "Model_Nano                   -1.6023      0.128    -12.499      0.000      -1.854      -1.351\n",
      "Model_New                    -0.6279      0.086     -7.289      0.000      -0.797      -0.459\n",
      "Model_Nexon                  -0.2295      0.184     -1.249      0.212      -0.590       0.131\n",
      "Model_NuvoSport           -4.611e-17   9.97e-17     -0.462      0.644   -2.42e-16    1.49e-16\n",
      "Model_Octavia                -0.6467      0.045    -14.268      0.000      -0.736      -0.558\n",
      "Model_Omni                   -0.7907      0.093     -8.503      0.000      -0.973      -0.608\n",
      "Model_One                    -2.4487      0.102    -23.911      0.000      -2.649      -2.248\n",
      "Model_Optra                  -0.5984      0.071     -8.404      0.000      -0.738      -0.459\n",
      "Model_Outlander              -0.7789      0.140     -5.567      0.000      -1.053      -0.505\n",
      "Model_Pajero                 -0.6079      0.082     -7.373      0.000      -0.770      -0.446\n",
      "Model_Panamera               -0.5372      0.105     -5.105      0.000      -0.744      -0.331\n",
      "Model_Passat                 -0.5477      0.072     -7.633      0.000      -0.688      -0.407\n",
      "Model_Petra                  -1.0957      0.191     -5.722      0.000      -1.471      -0.720\n",
      "Model_Platinum               -0.9597      0.194     -4.953      0.000      -1.340      -0.580\n",
      "Model_Polo                   -0.9762      0.042    -23.273      0.000      -1.058      -0.894\n",
      "Model_Prius               -3.831e-17    1.5e-16     -0.256      0.798   -3.32e-16    2.56e-16\n",
      "Model_Pulse                  -0.8053      0.077    -10.466      0.000      -0.956      -0.654\n",
      "Model_Punto                  -0.7056      0.099     -7.124      0.000      -0.900      -0.511\n",
      "Model_Q3                     -0.6542      0.056    -11.611      0.000      -0.765      -0.544\n",
      "Model_Q5                     -0.0486      0.073     -0.668      0.504      -0.191       0.094\n",
      "Model_Q7                     -0.5742      0.097     -5.945      0.000      -0.764      -0.385\n",
      "Model_Qualis                 -0.2482      0.129     -1.920      0.055      -0.502       0.005\n",
      "Model_Quanto                 -0.7237      0.095     -7.650      0.000      -0.909      -0.538\n",
      "Model_R-Class                -0.2664      0.172     -1.549      0.122      -0.604       0.071\n",
      "Model_RS5                    -0.9882      0.180     -5.484      0.000      -1.341      -0.635\n",
      "Model_Rapid                  -0.8980      0.039    -22.740      0.000      -0.975      -0.821\n",
      "Model_Redi                   -1.7316      0.165    -10.486      0.000      -2.055      -1.408\n",
      "Model_Renault                -0.5359      0.144     -3.714      0.000      -0.819      -0.253\n",
      "Model_Ritz                   -0.3950      0.079     -4.989      0.000      -0.550      -0.240\n",
      "Model_Rover                  -2.3088      0.094    -24.518      0.000      -2.493      -2.124\n",
      "Model_S                       0.0815      0.079      1.037      0.300      -0.073       0.236\n",
      "Model_S-Class                -1.4987      0.291     -5.152      0.000      -2.069      -0.928\n",
      "Model_S-Cross                 0.0067      0.222      0.030      0.976      -0.429       0.442\n",
      "Model_S60                    -0.8840      0.084    -10.481      0.000      -1.049      -0.719\n",
      "Model_S80                    -1.1339      0.134     -8.486      0.000      -1.396      -0.872\n",
      "Model_SL-Class                0.3777      0.233      1.619      0.106      -0.080       0.835\n",
      "Model_SLC                    -0.6082      0.247     -2.461      0.014      -1.093      -0.124\n",
      "Model_SLK-Class               0.3318      0.155      2.142      0.032       0.028       0.635\n",
      "Model_SX4                    -0.2543      0.082     -3.090      0.002      -0.416      -0.093\n",
      "Model_Safari                 -0.2219      0.148     -1.500      0.134      -0.512       0.068\n",
      "Model_Sail                   -0.6715      0.075     -8.911      0.000      -0.819      -0.524\n",
      "Model_Santa                   0.9600      0.146      6.570      0.000       0.674       1.246\n",
      "Model_Santro                 -0.0736      0.128     -0.577      0.564      -0.324       0.176\n",
      "Model_Scala                  -0.8468      0.138     -6.138      0.000      -1.117      -0.576\n",
      "Model_Scorpio                -0.0579      0.048     -1.207      0.228      -0.152       0.036\n",
      "Model_Siena                  -1.1352      0.192     -5.906      0.000      -1.512      -0.758\n",
      "Model_Sonata                  0.8323      0.152      5.493      0.000       0.535       1.129\n",
      "Model_Spark                  -1.0387      0.075    -13.773      0.000      -1.187      -0.891\n",
      "Model_Ssangyong               0.0960      0.080      1.198      0.231      -0.061       0.253\n",
      "Model_Sumo                   -0.3812      0.150     -2.540      0.011      -0.675      -0.087\n",
      "Model_Sunny                  -0.8881      0.060    -14.795      0.000      -1.006      -0.770\n",
      "Model_Superb                 -0.5820      0.043    -13.439      0.000      -0.667      -0.497\n",
      "Model_Swift                  -0.1700      0.077     -2.207      0.027      -0.321      -0.019\n",
      "Model_TT                      0.3014      0.202      1.493      0.135      -0.094       0.697\n",
      "Model_TUV                    -0.3410      0.074     -4.591      0.000      -0.487      -0.195\n",
      "Model_Tavera                  0.0719      0.130      0.553      0.580      -0.183       0.327\n",
      "Model_Teana                  -0.6878      0.115     -5.991      0.000      -0.913      -0.463\n",
      "Model_Terrano                -0.6817      0.061    -11.245      0.000      -0.801      -0.563\n",
      "Model_Thar                   -0.1037      0.078     -1.322      0.186      -0.257       0.050\n",
      "Model_Tiago                  -0.7834      0.129     -6.062      0.000      -1.037      -0.530\n",
      "Model_Tigor                  -0.5935      0.152     -3.896      0.000      -0.892      -0.295\n",
      "Model_Tiguan                  0.0948      0.190      0.500      0.617      -0.277       0.467\n",
      "Model_Tucson                  0.5939      0.165      3.597      0.000       0.270       0.918\n",
      "Model_V40                    -0.7544      0.114     -6.615      0.000      -0.978      -0.531\n",
      "Model_Vento                  -0.8573      0.042    -20.609      0.000      -0.939      -0.776\n",
      "Model_Venture                -0.8477      0.235     -3.600      0.000      -1.309      -0.386\n",
      "Model_Verito                 -0.6806      0.120     -5.669      0.000      -0.916      -0.445\n",
      "Model_Verna                   0.4210      0.126      3.351      0.001       0.175       0.667\n",
      "Model_Versa                  -0.7464      0.228     -3.269      0.001      -1.194      -0.299\n",
      "Model_Vitara                  0.0796      0.083      0.961      0.337      -0.083       0.242\n",
      "Model_WR-V                         0          0        nan        nan           0           0\n",
      "Model_WRV                    -0.3866      0.115     -3.365      0.001      -0.612      -0.161\n",
      "Model_Wagon                  -0.4959      0.080     -6.227      0.000      -0.652      -0.340\n",
      "Model_X-Trail                -0.1974      0.136     -1.455      0.146      -0.463       0.069\n",
      "Model_X1                     -0.1764      0.138     -1.276      0.202      -0.447       0.095\n",
      "Model_X3                      0.0930      0.155      0.600      0.548      -0.211       0.397\n",
      "Model_X5                      0.6805      0.134      5.069      0.000       0.417       0.944\n",
      "Model_X6                      0.8631      0.153      5.644      0.000       0.563       1.163\n",
      "Model_XC60                   -0.5998      0.089     -6.766      0.000      -0.774      -0.426\n",
      "Model_XC90                   -0.4767      0.137     -3.482      0.001      -0.745      -0.208\n",
      "Model_XE                     -1.3727      0.123    -11.205      0.000      -1.613      -1.133\n",
      "Model_XF                     -1.3579      0.075    -18.195      0.000      -1.504      -1.212\n",
      "Model_XJ                     -0.4720      0.098     -4.802      0.000      -0.665      -0.279\n",
      "Model_XUV300                  0.0206      0.201      0.102      0.918      -0.373       0.414\n",
      "Model_XUV500                  0.0480      0.041      1.165      0.244      -0.033       0.129\n",
      "Model_Xcent                   0.1579      0.128      1.235      0.217      -0.093       0.409\n",
      "Model_Xenon                  -0.6245      0.160     -3.896      0.000      -0.939      -0.310\n",
      "Model_Xylo                   -0.4452      0.059     -7.534      0.000      -0.561      -0.329\n",
      "Model_Yeti                   -0.4212      0.079     -5.318      0.000      -0.577      -0.266\n",
      "Model_Z4                      0.7279      0.202      3.612      0.000       0.333       1.123\n",
      "Model_Zen                    -0.7671      0.085     -8.980      0.000      -0.935      -0.600\n",
      "Model_Zest                   -0.6417      0.125     -5.132      0.000      -0.887      -0.397\n",
      "Model_i10                     0.0721      0.124      0.581      0.561      -0.171       0.315\n",
      "Model_i20                     0.3318      0.125      2.665      0.008       0.088       0.576\n",
      "Model_redi-GO                -1.5620      0.094    -16.686      0.000      -1.746      -1.378\n",
      "==============================================================================\n",
      "Omnibus:                     1422.516   Durbin-Watson:                   2.011\n",
      "Prob(Omnibus):                  0.000   Jarque-Bera (JB):            34040.324\n",
      "Skew:                          -0.784   Prob(JB):                         0.00\n",
      "Kurtosis:                      15.589   Cond. No.                     1.39e+19\n",
      "==============================================================================\n",
      "\n",
      "Notes:\n",
      "[1] Standard Errors assume that the covariance matrix of the errors is correctly specified.\n",
      "[2] The smallest eigenvalue is 1.79e-28. This might indicate that there are\n",
      "strong multicollinearity problems or that the design matrix is singular.\n"
     ]
    }
   ],
   "source": [
    "import statsmodels.api as sm\n",
    "\n",
    "x_train = sm.add_constant(X_train)\n",
    "x_test = sm.add_constant(X_test)\n",
    "\n",
    "def build_ols_model(train):\n",
    "    olsmodel = sm.OLS(y_train[\"price_log\"], train)\n",
    "    return olsmodel.fit()\n",
    "\n",
    "olsmodel1 = build_ols_model(x_train)\n",
    "\n",
    "print(olsmodel1.summary())"
   ]
  },
  {
   "cell_type": "code",
   "execution_count": 12,
   "metadata": {
    "id": "C01l5EucVL3i"
   },
   "outputs": [],
   "source": [
    "# Retrive Coefficient values and p-values\n",
    "olsmod = pd.DataFrame(olsmodel1.params, columns = ['coef'])\n",
    "olsmod['pval'] = olsmodel1.pvalues"
   ]
  },
  {
   "cell_type": "code",
   "execution_count": 13,
   "metadata": {
    "id": "FbQQZacV9WMm"
   },
   "outputs": [
    {
     "data": {
      "text/html": [
       "<div>\n",
       "<style scoped>\n",
       "    .dataframe tbody tr th:only-of-type {\n",
       "        vertical-align: middle;\n",
       "    }\n",
       "\n",
       "    .dataframe tbody tr th {\n",
       "        vertical-align: top;\n",
       "    }\n",
       "\n",
       "    .dataframe thead th {\n",
       "        text-align: right;\n",
       "    }\n",
       "</style>\n",
       "<table border=\"1\" class=\"dataframe\">\n",
       "  <thead>\n",
       "    <tr style=\"text-align: right;\">\n",
       "      <th></th>\n",
       "      <th>coef</th>\n",
       "      <th>pval</th>\n",
       "    </tr>\n",
       "  </thead>\n",
       "  <tbody>\n",
       "    <tr>\n",
       "      <th>Model_Gallardo</th>\n",
       "      <td>3.703743e-16</td>\n",
       "      <td>0.041134</td>\n",
       "    </tr>\n",
       "    <tr>\n",
       "      <th>Model_CR-V</th>\n",
       "      <td>-1.116858e-01</td>\n",
       "      <td>0.039933</td>\n",
       "    </tr>\n",
       "    <tr>\n",
       "      <th>Model_Camry</th>\n",
       "      <td>-1.743258e-01</td>\n",
       "      <td>0.038092</td>\n",
       "    </tr>\n",
       "    <tr>\n",
       "      <th>Model_SLK-Class</th>\n",
       "      <td>3.317574e-01</td>\n",
       "      <td>0.032207</td>\n",
       "    </tr>\n",
       "    <tr>\n",
       "      <th>Model_Swift</th>\n",
       "      <td>-1.699596e-01</td>\n",
       "      <td>0.027335</td>\n",
       "    </tr>\n",
       "    <tr>\n",
       "      <th>...</th>\n",
       "      <td>...</td>\n",
       "      <td>...</td>\n",
       "    </tr>\n",
       "    <tr>\n",
       "      <th>Brand_Chevrolet</th>\n",
       "      <td>-5.193682e+00</td>\n",
       "      <td>0.000000</td>\n",
       "    </tr>\n",
       "    <tr>\n",
       "      <th>Year</th>\n",
       "      <td>8.945477e-02</td>\n",
       "      <td>0.000000</td>\n",
       "    </tr>\n",
       "    <tr>\n",
       "      <th>Brand_Lamborghini</th>\n",
       "      <td>1.464234e-13</td>\n",
       "      <td>0.000000</td>\n",
       "    </tr>\n",
       "    <tr>\n",
       "      <th>Fuel_Type_Electric</th>\n",
       "      <td>3.387654e-13</td>\n",
       "      <td>0.000000</td>\n",
       "    </tr>\n",
       "    <tr>\n",
       "      <th>const</th>\n",
       "      <td>-1.725966e+02</td>\n",
       "      <td>0.000000</td>\n",
       "    </tr>\n",
       "  </tbody>\n",
       "</table>\n",
       "<p>218 rows × 2 columns</p>\n",
       "</div>"
      ],
      "text/plain": [
       "                            coef      pval\n",
       "Model_Gallardo      3.703743e-16  0.041134\n",
       "Model_CR-V         -1.116858e-01  0.039933\n",
       "Model_Camry        -1.743258e-01  0.038092\n",
       "Model_SLK-Class     3.317574e-01  0.032207\n",
       "Model_Swift        -1.699596e-01  0.027335\n",
       "...                          ...       ...\n",
       "Brand_Chevrolet    -5.193682e+00  0.000000\n",
       "Year                8.945477e-02  0.000000\n",
       "Brand_Lamborghini   1.464234e-13  0.000000\n",
       "Fuel_Type_Electric  3.387654e-13  0.000000\n",
       "const              -1.725966e+02  0.000000\n",
       "\n",
       "[218 rows x 2 columns]"
      ]
     },
     "execution_count": 13,
     "metadata": {},
     "output_type": "execute_result"
    }
   ],
   "source": [
    "# Filter by significant p-value (pval <= 0.05)\n",
    "\n",
    "olsmod = olsmod.sort_values(by = \"pval\", ascending = False)\n",
    "\n",
    "pval_filter = olsmod['pval']<= 0.05\n",
    "\n",
    "olsmod[pval_filter]"
   ]
  },
  {
   "cell_type": "code",
   "execution_count": 14,
   "metadata": {
    "id": "yjplRhssIrdC"
   },
   "outputs": [
    {
     "name": "stdout",
     "output_type": "stream",
     "text": [
      "Most overall significant categorical varaibles of LINEAR REGRESSION  are  :\n",
      " ['Model', 'Location', 'Engine', 'New_price', 'Owner_Type', 'Transmission', 'Power', 'kilometers_driven_log', 'Brand', 'Year', 'Fuel_Type']\n"
     ]
    }
   ],
   "source": [
    "# Most significant varaibles\n",
    "\n",
    "pval_filter = olsmod['pval']<= 0.05\n",
    "mp_vars = olsmod[pval_filter].index.tolist()\n",
    "\n",
    "# Obtain overall variables (undo one-hot encoding)\n",
    "sig_var = []\n",
    "for col in mp_vars:\n",
    "    if '' in col:\n",
    "        first_part = col.split('_')[0]\n",
    "        for c in cars_data.columns:\n",
    "            if first_part in c and c not in sig_var :\n",
    "                sig_var.append(c)\n",
    "\n",
    "print('Most overall significant categorical varaibles of LINEAR REGRESSION  are ',':\\n', sig_var)"
   ]
  },
  {
   "cell_type": "markdown",
   "metadata": {
    "id": "5uubmKLlVL3j"
   },
   "source": [
    "### **Ridge Regression**"
   ]
  },
  {
   "cell_type": "code",
   "execution_count": 15,
   "metadata": {
    "id": "9--bgDNhVL3j"
   },
   "outputs": [],
   "source": [
    "from sklearn.linear_model import Ridge"
   ]
  },
  {
   "cell_type": "code",
   "execution_count": 16,
   "metadata": {
    "id": "TwSuk8Q9VL3j"
   },
   "outputs": [
    {
     "data": {
      "text/html": [
       "<style>#sk-container-id-2 {color: black;}#sk-container-id-2 pre{padding: 0;}#sk-container-id-2 div.sk-toggleable {background-color: white;}#sk-container-id-2 label.sk-toggleable__label {cursor: pointer;display: block;width: 100%;margin-bottom: 0;padding: 0.3em;box-sizing: border-box;text-align: center;}#sk-container-id-2 label.sk-toggleable__label-arrow:before {content: \"▸\";float: left;margin-right: 0.25em;color: #696969;}#sk-container-id-2 label.sk-toggleable__label-arrow:hover:before {color: black;}#sk-container-id-2 div.sk-estimator:hover label.sk-toggleable__label-arrow:before {color: black;}#sk-container-id-2 div.sk-toggleable__content {max-height: 0;max-width: 0;overflow: hidden;text-align: left;background-color: #f0f8ff;}#sk-container-id-2 div.sk-toggleable__content pre {margin: 0.2em;color: black;border-radius: 0.25em;background-color: #f0f8ff;}#sk-container-id-2 input.sk-toggleable__control:checked~div.sk-toggleable__content {max-height: 200px;max-width: 100%;overflow: auto;}#sk-container-id-2 input.sk-toggleable__control:checked~label.sk-toggleable__label-arrow:before {content: \"▾\";}#sk-container-id-2 div.sk-estimator input.sk-toggleable__control:checked~label.sk-toggleable__label {background-color: #d4ebff;}#sk-container-id-2 div.sk-label input.sk-toggleable__control:checked~label.sk-toggleable__label {background-color: #d4ebff;}#sk-container-id-2 input.sk-hidden--visually {border: 0;clip: rect(1px 1px 1px 1px);clip: rect(1px, 1px, 1px, 1px);height: 1px;margin: -1px;overflow: hidden;padding: 0;position: absolute;width: 1px;}#sk-container-id-2 div.sk-estimator {font-family: monospace;background-color: #f0f8ff;border: 1px dotted black;border-radius: 0.25em;box-sizing: border-box;margin-bottom: 0.5em;}#sk-container-id-2 div.sk-estimator:hover {background-color: #d4ebff;}#sk-container-id-2 div.sk-parallel-item::after {content: \"\";width: 100%;border-bottom: 1px solid gray;flex-grow: 1;}#sk-container-id-2 div.sk-label:hover label.sk-toggleable__label {background-color: #d4ebff;}#sk-container-id-2 div.sk-serial::before {content: \"\";position: absolute;border-left: 1px solid gray;box-sizing: border-box;top: 0;bottom: 0;left: 50%;z-index: 0;}#sk-container-id-2 div.sk-serial {display: flex;flex-direction: column;align-items: center;background-color: white;padding-right: 0.2em;padding-left: 0.2em;position: relative;}#sk-container-id-2 div.sk-item {position: relative;z-index: 1;}#sk-container-id-2 div.sk-parallel {display: flex;align-items: stretch;justify-content: center;background-color: white;position: relative;}#sk-container-id-2 div.sk-item::before, #sk-container-id-2 div.sk-parallel-item::before {content: \"\";position: absolute;border-left: 1px solid gray;box-sizing: border-box;top: 0;bottom: 0;left: 50%;z-index: -1;}#sk-container-id-2 div.sk-parallel-item {display: flex;flex-direction: column;z-index: 1;position: relative;background-color: white;}#sk-container-id-2 div.sk-parallel-item:first-child::after {align-self: flex-end;width: 50%;}#sk-container-id-2 div.sk-parallel-item:last-child::after {align-self: flex-start;width: 50%;}#sk-container-id-2 div.sk-parallel-item:only-child::after {width: 0;}#sk-container-id-2 div.sk-dashed-wrapped {border: 1px dashed gray;margin: 0 0.4em 0.5em 0.4em;box-sizing: border-box;padding-bottom: 0.4em;background-color: white;}#sk-container-id-2 div.sk-label label {font-family: monospace;font-weight: bold;display: inline-block;line-height: 1.2em;}#sk-container-id-2 div.sk-label-container {text-align: center;}#sk-container-id-2 div.sk-container {/* jupyter's `normalize.less` sets `[hidden] { display: none; }` but bootstrap.min.css set `[hidden] { display: none !important; }` so we also need the `!important` here to be able to override the default hidden behavior on the sphinx rendered scikit-learn.org. See: https://github.com/scikit-learn/scikit-learn/issues/21755 */display: inline-block !important;position: relative;}#sk-container-id-2 div.sk-text-repr-fallback {display: none;}</style><div id=\"sk-container-id-2\" class=\"sk-top-container\"><div class=\"sk-text-repr-fallback\"><pre>Ridge()</pre><b>In a Jupyter environment, please rerun this cell to show the HTML representation or trust the notebook. <br />On GitHub, the HTML representation is unable to render, please try loading this page with nbviewer.org.</b></div><div class=\"sk-container\" hidden><div class=\"sk-item\"><div class=\"sk-estimator sk-toggleable\"><input class=\"sk-toggleable__control sk-hidden--visually\" id=\"sk-estimator-id-2\" type=\"checkbox\" checked><label for=\"sk-estimator-id-2\" class=\"sk-toggleable__label sk-toggleable__label-arrow\">Ridge</label><div class=\"sk-toggleable__content\"><pre>Ridge()</pre></div></div></div></div></div>"
      ],
      "text/plain": [
       "Ridge()"
      ]
     },
     "execution_count": 16,
     "metadata": {},
     "output_type": "execute_result"
    }
   ],
   "source": [
    "clf = Ridge()\n",
    "clf.fit(X_train, y_train['price_log'])"
   ]
  },
  {
   "cell_type": "code",
   "execution_count": 17,
   "metadata": {
    "id": "c2tIACYOVL3j"
   },
   "outputs": [
    {
     "name": "stdout",
     "output_type": "stream",
     "text": [
      "R-sqaure on training set :  0.901984351072462\n",
      "R-square on test set :  0.8847544041062825\n",
      "RMSE on training set :  3.3635343365734474\n",
      "RMSE on test set :  3.633120496703515\n"
     ]
    }
   ],
   "source": [
    "ridge_score = get_model_score(clf)"
   ]
  },
  {
   "cell_type": "markdown",
   "metadata": {},
   "source": [
    "**Observations from results:**\n",
    "\n",
    "The R-squared value on the training set is 0.90, which is really high and good because it means the training data fits the Ridge model well.\n",
    "\n",
    "The RMSE on the training set is too high at 3.36, so variables must be eliminated to lower that value."
   ]
  },
  {
   "cell_type": "markdown",
   "metadata": {
    "id": "owyg5IpstOS9"
   },
   "source": [
    "### **Decision Tree** "
   ]
  },
  {
   "cell_type": "code",
   "execution_count": 18,
   "metadata": {
    "id": "GjZeRER6VL3k"
   },
   "outputs": [],
   "source": [
    "from sklearn.tree import DecisionTreeRegressor"
   ]
  },
  {
   "cell_type": "code",
   "execution_count": 19,
   "metadata": {
    "id": "shBet9WztOS-"
   },
   "outputs": [
    {
     "data": {
      "text/html": [
       "<style>#sk-container-id-3 {color: black;}#sk-container-id-3 pre{padding: 0;}#sk-container-id-3 div.sk-toggleable {background-color: white;}#sk-container-id-3 label.sk-toggleable__label {cursor: pointer;display: block;width: 100%;margin-bottom: 0;padding: 0.3em;box-sizing: border-box;text-align: center;}#sk-container-id-3 label.sk-toggleable__label-arrow:before {content: \"▸\";float: left;margin-right: 0.25em;color: #696969;}#sk-container-id-3 label.sk-toggleable__label-arrow:hover:before {color: black;}#sk-container-id-3 div.sk-estimator:hover label.sk-toggleable__label-arrow:before {color: black;}#sk-container-id-3 div.sk-toggleable__content {max-height: 0;max-width: 0;overflow: hidden;text-align: left;background-color: #f0f8ff;}#sk-container-id-3 div.sk-toggleable__content pre {margin: 0.2em;color: black;border-radius: 0.25em;background-color: #f0f8ff;}#sk-container-id-3 input.sk-toggleable__control:checked~div.sk-toggleable__content {max-height: 200px;max-width: 100%;overflow: auto;}#sk-container-id-3 input.sk-toggleable__control:checked~label.sk-toggleable__label-arrow:before {content: \"▾\";}#sk-container-id-3 div.sk-estimator input.sk-toggleable__control:checked~label.sk-toggleable__label {background-color: #d4ebff;}#sk-container-id-3 div.sk-label input.sk-toggleable__control:checked~label.sk-toggleable__label {background-color: #d4ebff;}#sk-container-id-3 input.sk-hidden--visually {border: 0;clip: rect(1px 1px 1px 1px);clip: rect(1px, 1px, 1px, 1px);height: 1px;margin: -1px;overflow: hidden;padding: 0;position: absolute;width: 1px;}#sk-container-id-3 div.sk-estimator {font-family: monospace;background-color: #f0f8ff;border: 1px dotted black;border-radius: 0.25em;box-sizing: border-box;margin-bottom: 0.5em;}#sk-container-id-3 div.sk-estimator:hover {background-color: #d4ebff;}#sk-container-id-3 div.sk-parallel-item::after {content: \"\";width: 100%;border-bottom: 1px solid gray;flex-grow: 1;}#sk-container-id-3 div.sk-label:hover label.sk-toggleable__label {background-color: #d4ebff;}#sk-container-id-3 div.sk-serial::before {content: \"\";position: absolute;border-left: 1px solid gray;box-sizing: border-box;top: 0;bottom: 0;left: 50%;z-index: 0;}#sk-container-id-3 div.sk-serial {display: flex;flex-direction: column;align-items: center;background-color: white;padding-right: 0.2em;padding-left: 0.2em;position: relative;}#sk-container-id-3 div.sk-item {position: relative;z-index: 1;}#sk-container-id-3 div.sk-parallel {display: flex;align-items: stretch;justify-content: center;background-color: white;position: relative;}#sk-container-id-3 div.sk-item::before, #sk-container-id-3 div.sk-parallel-item::before {content: \"\";position: absolute;border-left: 1px solid gray;box-sizing: border-box;top: 0;bottom: 0;left: 50%;z-index: -1;}#sk-container-id-3 div.sk-parallel-item {display: flex;flex-direction: column;z-index: 1;position: relative;background-color: white;}#sk-container-id-3 div.sk-parallel-item:first-child::after {align-self: flex-end;width: 50%;}#sk-container-id-3 div.sk-parallel-item:last-child::after {align-self: flex-start;width: 50%;}#sk-container-id-3 div.sk-parallel-item:only-child::after {width: 0;}#sk-container-id-3 div.sk-dashed-wrapped {border: 1px dashed gray;margin: 0 0.4em 0.5em 0.4em;box-sizing: border-box;padding-bottom: 0.4em;background-color: white;}#sk-container-id-3 div.sk-label label {font-family: monospace;font-weight: bold;display: inline-block;line-height: 1.2em;}#sk-container-id-3 div.sk-label-container {text-align: center;}#sk-container-id-3 div.sk-container {/* jupyter's `normalize.less` sets `[hidden] { display: none; }` but bootstrap.min.css set `[hidden] { display: none !important; }` so we also need the `!important` here to be able to override the default hidden behavior on the sphinx rendered scikit-learn.org. See: https://github.com/scikit-learn/scikit-learn/issues/21755 */display: inline-block !important;position: relative;}#sk-container-id-3 div.sk-text-repr-fallback {display: none;}</style><div id=\"sk-container-id-3\" class=\"sk-top-container\"><div class=\"sk-text-repr-fallback\"><pre>DecisionTreeRegressor(random_state=1)</pre><b>In a Jupyter environment, please rerun this cell to show the HTML representation or trust the notebook. <br />On GitHub, the HTML representation is unable to render, please try loading this page with nbviewer.org.</b></div><div class=\"sk-container\" hidden><div class=\"sk-item\"><div class=\"sk-estimator sk-toggleable\"><input class=\"sk-toggleable__control sk-hidden--visually\" id=\"sk-estimator-id-3\" type=\"checkbox\" checked><label for=\"sk-estimator-id-3\" class=\"sk-toggleable__label sk-toggleable__label-arrow\">DecisionTreeRegressor</label><div class=\"sk-toggleable__content\"><pre>DecisionTreeRegressor(random_state=1)</pre></div></div></div></div></div>"
      ],
      "text/plain": [
       "DecisionTreeRegressor(random_state=1)"
      ]
     },
     "execution_count": 19,
     "metadata": {},
     "output_type": "execute_result"
    }
   ],
   "source": [
    "dtree = DecisionTreeRegressor(random_state = 1)\n",
    "dtree.fit(X_train, y_train['price_log'])"
   ]
  },
  {
   "cell_type": "code",
   "execution_count": 20,
   "metadata": {
    "id": "vGbEjda0tOS-"
   },
   "outputs": [
    {
     "name": "stdout",
     "output_type": "stream",
     "text": [
      "R-sqaure on training set :  0.999908205603226\n",
      "R-square on test set :  0.8232778973335595\n",
      "RMSE on training set :  0.10293338189909358\n",
      "RMSE on test set :  4.4989696991075645\n"
     ]
    }
   ],
   "source": [
    "Dtree_model = get_model_score(dtree)"
   ]
  },
  {
   "cell_type": "markdown",
   "metadata": {
    "id": "UrCgLVKwtOS-"
   },
   "source": [
    "**Observations from results:**\n",
    "\n",
    "The R-squared value on the training set is almost 1, which means the Decision tree fits the model extremely well, almost perfectly.\n",
    "\n",
    "The RMSE on the training set is 0.10, which is very low and means better fit of the model."
   ]
  },
  {
   "cell_type": "markdown",
   "metadata": {
    "id": "6z2V0IwtVL3k"
   },
   "source": [
    "**Feature Importance**\n",
    "\n",
    "Importance of features in the tree building (Gini Importance):"
   ]
  },
  {
   "cell_type": "code",
   "execution_count": 40,
   "metadata": {
    "id": "E8ro_i9vIrdF"
   },
   "outputs": [
    {
     "name": "stdout",
     "output_type": "stream",
     "text": [
      "                       Importance Score\n",
      "Power                          0.650185\n",
      "Year                           0.191520\n",
      "New_price                      0.059473\n",
      "kilometers_driven_log          0.019872\n",
      "Engine                         0.009325\n",
      "...                                 ...\n",
      "Model_MUX                      0.000000\n",
      "Model_MU                       0.000000\n",
      "Model_M-Class                  0.000000\n",
      "Model_Logan                    0.000000\n",
      "Model_Fluence                  0.000000\n",
      "\n",
      "[275 rows x 1 columns]\n"
     ]
    }
   ],
   "source": [
    "print(pd.DataFrame(dtree.feature_importances_, columns = [\"Importance Score\"], index = X_train.columns).sort_values(by = 'Importance Score', ascending = False))"
   ]
  },
  {
   "cell_type": "markdown",
   "metadata": {
    "id": "q8eFynaNtOS-"
   },
   "source": [
    "### **Random Forest**"
   ]
  },
  {
   "cell_type": "code",
   "execution_count": 22,
   "metadata": {
    "id": "Jhw-0FsNVL3l"
   },
   "outputs": [],
   "source": [
    "from sklearn.ensemble import RandomForestRegressor"
   ]
  },
  {
   "cell_type": "code",
   "execution_count": 23,
   "metadata": {
    "id": "-4S4FoDXtOS-"
   },
   "outputs": [
    {
     "data": {
      "text/html": [
       "<style>#sk-container-id-4 {color: black;}#sk-container-id-4 pre{padding: 0;}#sk-container-id-4 div.sk-toggleable {background-color: white;}#sk-container-id-4 label.sk-toggleable__label {cursor: pointer;display: block;width: 100%;margin-bottom: 0;padding: 0.3em;box-sizing: border-box;text-align: center;}#sk-container-id-4 label.sk-toggleable__label-arrow:before {content: \"▸\";float: left;margin-right: 0.25em;color: #696969;}#sk-container-id-4 label.sk-toggleable__label-arrow:hover:before {color: black;}#sk-container-id-4 div.sk-estimator:hover label.sk-toggleable__label-arrow:before {color: black;}#sk-container-id-4 div.sk-toggleable__content {max-height: 0;max-width: 0;overflow: hidden;text-align: left;background-color: #f0f8ff;}#sk-container-id-4 div.sk-toggleable__content pre {margin: 0.2em;color: black;border-radius: 0.25em;background-color: #f0f8ff;}#sk-container-id-4 input.sk-toggleable__control:checked~div.sk-toggleable__content {max-height: 200px;max-width: 100%;overflow: auto;}#sk-container-id-4 input.sk-toggleable__control:checked~label.sk-toggleable__label-arrow:before {content: \"▾\";}#sk-container-id-4 div.sk-estimator input.sk-toggleable__control:checked~label.sk-toggleable__label {background-color: #d4ebff;}#sk-container-id-4 div.sk-label input.sk-toggleable__control:checked~label.sk-toggleable__label {background-color: #d4ebff;}#sk-container-id-4 input.sk-hidden--visually {border: 0;clip: rect(1px 1px 1px 1px);clip: rect(1px, 1px, 1px, 1px);height: 1px;margin: -1px;overflow: hidden;padding: 0;position: absolute;width: 1px;}#sk-container-id-4 div.sk-estimator {font-family: monospace;background-color: #f0f8ff;border: 1px dotted black;border-radius: 0.25em;box-sizing: border-box;margin-bottom: 0.5em;}#sk-container-id-4 div.sk-estimator:hover {background-color: #d4ebff;}#sk-container-id-4 div.sk-parallel-item::after {content: \"\";width: 100%;border-bottom: 1px solid gray;flex-grow: 1;}#sk-container-id-4 div.sk-label:hover label.sk-toggleable__label {background-color: #d4ebff;}#sk-container-id-4 div.sk-serial::before {content: \"\";position: absolute;border-left: 1px solid gray;box-sizing: border-box;top: 0;bottom: 0;left: 50%;z-index: 0;}#sk-container-id-4 div.sk-serial {display: flex;flex-direction: column;align-items: center;background-color: white;padding-right: 0.2em;padding-left: 0.2em;position: relative;}#sk-container-id-4 div.sk-item {position: relative;z-index: 1;}#sk-container-id-4 div.sk-parallel {display: flex;align-items: stretch;justify-content: center;background-color: white;position: relative;}#sk-container-id-4 div.sk-item::before, #sk-container-id-4 div.sk-parallel-item::before {content: \"\";position: absolute;border-left: 1px solid gray;box-sizing: border-box;top: 0;bottom: 0;left: 50%;z-index: -1;}#sk-container-id-4 div.sk-parallel-item {display: flex;flex-direction: column;z-index: 1;position: relative;background-color: white;}#sk-container-id-4 div.sk-parallel-item:first-child::after {align-self: flex-end;width: 50%;}#sk-container-id-4 div.sk-parallel-item:last-child::after {align-self: flex-start;width: 50%;}#sk-container-id-4 div.sk-parallel-item:only-child::after {width: 0;}#sk-container-id-4 div.sk-dashed-wrapped {border: 1px dashed gray;margin: 0 0.4em 0.5em 0.4em;box-sizing: border-box;padding-bottom: 0.4em;background-color: white;}#sk-container-id-4 div.sk-label label {font-family: monospace;font-weight: bold;display: inline-block;line-height: 1.2em;}#sk-container-id-4 div.sk-label-container {text-align: center;}#sk-container-id-4 div.sk-container {/* jupyter's `normalize.less` sets `[hidden] { display: none; }` but bootstrap.min.css set `[hidden] { display: none !important; }` so we also need the `!important` here to be able to override the default hidden behavior on the sphinx rendered scikit-learn.org. See: https://github.com/scikit-learn/scikit-learn/issues/21755 */display: inline-block !important;position: relative;}#sk-container-id-4 div.sk-text-repr-fallback {display: none;}</style><div id=\"sk-container-id-4\" class=\"sk-top-container\"><div class=\"sk-text-repr-fallback\"><pre>RandomForestRegressor()</pre><b>In a Jupyter environment, please rerun this cell to show the HTML representation or trust the notebook. <br />On GitHub, the HTML representation is unable to render, please try loading this page with nbviewer.org.</b></div><div class=\"sk-container\" hidden><div class=\"sk-item\"><div class=\"sk-estimator sk-toggleable\"><input class=\"sk-toggleable__control sk-hidden--visually\" id=\"sk-estimator-id-4\" type=\"checkbox\" checked><label for=\"sk-estimator-id-4\" class=\"sk-toggleable__label sk-toggleable__label-arrow\">RandomForestRegressor</label><div class=\"sk-toggleable__content\"><pre>RandomForestRegressor()</pre></div></div></div></div></div>"
      ],
      "text/plain": [
       "RandomForestRegressor()"
      ]
     },
     "execution_count": 23,
     "metadata": {},
     "output_type": "execute_result"
    }
   ],
   "source": [
    "regr = RandomForestRegressor()\n",
    "regr.fit(X_train, y_train['price_log'])"
   ]
  },
  {
   "cell_type": "code",
   "execution_count": 24,
   "metadata": {
    "id": "VLDDeeAGtOS_"
   },
   "outputs": [
    {
     "name": "stdout",
     "output_type": "stream",
     "text": [
      "R-sqaure on training set :  0.9742585367810555\n",
      "R-square on test set :  0.864274426808014\n",
      "RMSE on training set :  1.7237122602766253\n",
      "RMSE on test set :  3.942743053825756\n"
     ]
    }
   ],
   "source": [
    "forest_score = get_model_score(regr)"
   ]
  },
  {
   "cell_type": "markdown",
   "metadata": {
    "id": "ZGNTRfaitOS_"
   },
   "source": [
    "**Observations and insights:**\n",
    "\n",
    "The R-squared value is 0.97, which is really high and means the model fits the data really well.\n",
    "\n",
    "The RMSE on the training set is 1.81, which is also somewhat high and means the data does not fit the model that well. Also, the RMSE is much higher on the test set, meaning it didn't perform well."
   ]
  },
  {
   "cell_type": "markdown",
   "metadata": {
    "id": "pgwyNxUuIrdG"
   },
   "source": [
    "**Feature Importance**"
   ]
  },
  {
   "cell_type": "code",
   "execution_count": 25,
   "metadata": {
    "id": "AWRS7zISIrdG"
   },
   "outputs": [
    {
     "name": "stdout",
     "output_type": "stream",
     "text": [
      "                       Importance Score\n",
      "Power                          0.641714\n",
      "Year                           0.192946\n",
      "New_price                      0.064183\n",
      "kilometers_driven_log          0.019399\n",
      "Engine                         0.013275\n",
      "...                                 ...\n",
      "Model_370Z                     0.000000\n",
      "Model_F                        0.000000\n",
      "Model_E                        0.000000\n",
      "Model_WR-V                     0.000000\n",
      "Model_Gallardo                 0.000000\n",
      "\n",
      "[275 rows x 1 columns]\n"
     ]
    }
   ],
   "source": [
    "print(pd.DataFrame(regr.feature_importances_, columns = [\"Importance Score\"], index = X_train.columns).sort_values(by = 'Importance Score', ascending = False))"
   ]
  },
  {
   "cell_type": "markdown",
   "metadata": {
    "id": "cG9ZD9ozIrdH"
   },
   "source": [
    "**Observations and insights:**\n",
    "\n",
    "Since Power has the highest feature importance score by a lot, it is clearly the most important factor in calculating the price of the car. \n",
    "\n",
    "Other somewhat significant variables include Year and New_price, with importance scores of 0.19 and 0.064, respectively."
   ]
  },
  {
   "cell_type": "markdown",
   "metadata": {
    "id": "sw0dMSgetOS_"
   },
   "source": [
    "### **Hyperparameter Tuning: Decision Tree**"
   ]
  },
  {
   "cell_type": "code",
   "execution_count": 36,
   "metadata": {
    "id": "4eF0aYHHtOS_"
   },
   "outputs": [
    {
     "data": {
      "text/html": [
       "<style>#sk-container-id-8 {color: black;}#sk-container-id-8 pre{padding: 0;}#sk-container-id-8 div.sk-toggleable {background-color: white;}#sk-container-id-8 label.sk-toggleable__label {cursor: pointer;display: block;width: 100%;margin-bottom: 0;padding: 0.3em;box-sizing: border-box;text-align: center;}#sk-container-id-8 label.sk-toggleable__label-arrow:before {content: \"▸\";float: left;margin-right: 0.25em;color: #696969;}#sk-container-id-8 label.sk-toggleable__label-arrow:hover:before {color: black;}#sk-container-id-8 div.sk-estimator:hover label.sk-toggleable__label-arrow:before {color: black;}#sk-container-id-8 div.sk-toggleable__content {max-height: 0;max-width: 0;overflow: hidden;text-align: left;background-color: #f0f8ff;}#sk-container-id-8 div.sk-toggleable__content pre {margin: 0.2em;color: black;border-radius: 0.25em;background-color: #f0f8ff;}#sk-container-id-8 input.sk-toggleable__control:checked~div.sk-toggleable__content {max-height: 200px;max-width: 100%;overflow: auto;}#sk-container-id-8 input.sk-toggleable__control:checked~label.sk-toggleable__label-arrow:before {content: \"▾\";}#sk-container-id-8 div.sk-estimator input.sk-toggleable__control:checked~label.sk-toggleable__label {background-color: #d4ebff;}#sk-container-id-8 div.sk-label input.sk-toggleable__control:checked~label.sk-toggleable__label {background-color: #d4ebff;}#sk-container-id-8 input.sk-hidden--visually {border: 0;clip: rect(1px 1px 1px 1px);clip: rect(1px, 1px, 1px, 1px);height: 1px;margin: -1px;overflow: hidden;padding: 0;position: absolute;width: 1px;}#sk-container-id-8 div.sk-estimator {font-family: monospace;background-color: #f0f8ff;border: 1px dotted black;border-radius: 0.25em;box-sizing: border-box;margin-bottom: 0.5em;}#sk-container-id-8 div.sk-estimator:hover {background-color: #d4ebff;}#sk-container-id-8 div.sk-parallel-item::after {content: \"\";width: 100%;border-bottom: 1px solid gray;flex-grow: 1;}#sk-container-id-8 div.sk-label:hover label.sk-toggleable__label {background-color: #d4ebff;}#sk-container-id-8 div.sk-serial::before {content: \"\";position: absolute;border-left: 1px solid gray;box-sizing: border-box;top: 0;bottom: 0;left: 50%;z-index: 0;}#sk-container-id-8 div.sk-serial {display: flex;flex-direction: column;align-items: center;background-color: white;padding-right: 0.2em;padding-left: 0.2em;position: relative;}#sk-container-id-8 div.sk-item {position: relative;z-index: 1;}#sk-container-id-8 div.sk-parallel {display: flex;align-items: stretch;justify-content: center;background-color: white;position: relative;}#sk-container-id-8 div.sk-item::before, #sk-container-id-8 div.sk-parallel-item::before {content: \"\";position: absolute;border-left: 1px solid gray;box-sizing: border-box;top: 0;bottom: 0;left: 50%;z-index: -1;}#sk-container-id-8 div.sk-parallel-item {display: flex;flex-direction: column;z-index: 1;position: relative;background-color: white;}#sk-container-id-8 div.sk-parallel-item:first-child::after {align-self: flex-end;width: 50%;}#sk-container-id-8 div.sk-parallel-item:last-child::after {align-self: flex-start;width: 50%;}#sk-container-id-8 div.sk-parallel-item:only-child::after {width: 0;}#sk-container-id-8 div.sk-dashed-wrapped {border: 1px dashed gray;margin: 0 0.4em 0.5em 0.4em;box-sizing: border-box;padding-bottom: 0.4em;background-color: white;}#sk-container-id-8 div.sk-label label {font-family: monospace;font-weight: bold;display: inline-block;line-height: 1.2em;}#sk-container-id-8 div.sk-label-container {text-align: center;}#sk-container-id-8 div.sk-container {/* jupyter's `normalize.less` sets `[hidden] { display: none; }` but bootstrap.min.css set `[hidden] { display: none !important; }` so we also need the `!important` here to be able to override the default hidden behavior on the sphinx rendered scikit-learn.org. See: https://github.com/scikit-learn/scikit-learn/issues/21755 */display: inline-block !important;position: relative;}#sk-container-id-8 div.sk-text-repr-fallback {display: none;}</style><div id=\"sk-container-id-8\" class=\"sk-top-container\"><div class=\"sk-text-repr-fallback\"><pre>DecisionTreeRegressor(min_samples_leaf=10, random_state=1)</pre><b>In a Jupyter environment, please rerun this cell to show the HTML representation or trust the notebook. <br />On GitHub, the HTML representation is unable to render, please try loading this page with nbviewer.org.</b></div><div class=\"sk-container\" hidden><div class=\"sk-item\"><div class=\"sk-estimator sk-toggleable\"><input class=\"sk-toggleable__control sk-hidden--visually\" id=\"sk-estimator-id-8\" type=\"checkbox\" checked><label for=\"sk-estimator-id-8\" class=\"sk-toggleable__label sk-toggleable__label-arrow\">DecisionTreeRegressor</label><div class=\"sk-toggleable__content\"><pre>DecisionTreeRegressor(min_samples_leaf=10, random_state=1)</pre></div></div></div></div></div>"
      ],
      "text/plain": [
       "DecisionTreeRegressor(min_samples_leaf=10, random_state=1)"
      ]
     },
     "execution_count": 36,
     "metadata": {},
     "output_type": "execute_result"
    }
   ],
   "source": [
    "from sklearn.model_selection import GridSearchCV\n",
    "\n",
    "dtree_tuned = DecisionTreeRegressor(random_state = 1)\n",
    "\n",
    "# Dictionary of parameters to choose from\n",
    "parameters = {\"max_depth\": [None, 1, 2, 5, 10, 20], \"min_samples_leaf\": [1, 3, 5, 10, 20]}\n",
    "\n",
    "# Run the grid search\n",
    "grid_obj = GridSearchCV(estimator = dtree_tuned, param_grid = parameters, scoring=\"neg_mean_squared_error\", cv=5, n_jobs=-1)\n",
    "grid_obj = grid_obj.fit(X_train, y_train['price_log'])\n",
    "\n",
    "# Set the model to the best combination of parameters\n",
    "dtree_tuned = grid_obj.best_estimator_\n",
    "dtree_tuned.fit(X_train, y_train['price_log'])"
   ]
  },
  {
   "cell_type": "code",
   "execution_count": 37,
   "metadata": {
    "id": "hctfJIAXtOS_"
   },
   "outputs": [
    {
     "name": "stdout",
     "output_type": "stream",
     "text": [
      "R-sqaure on training set :  0.8809744608578453\n",
      "R-square on test set :  0.8072076290269816\n",
      "RMSE on training set :  3.706536100875415\n",
      "RMSE on test set :  4.699076932168065\n"
     ]
    },
    {
     "data": {
      "text/plain": [
       "[0.8809744608578453, 0.8072076290269816, 3.706536100875415, 4.699076932168065]"
      ]
     },
     "execution_count": 37,
     "metadata": {},
     "output_type": "execute_result"
    }
   ],
   "source": [
    "get_model_score(dtree_tuned)"
   ]
  },
  {
   "cell_type": "markdown",
   "metadata": {
    "id": "UsGmvq1StOS_"
   },
   "source": [
    "**Observations and insights:**\n",
    "\n",
    "The R-squared on the model is 0.88, which is pretty high and means the model is fairly accurate in predicting the data. Also, it is fairly close to the R-squared on the training set, which is good.\n",
    "\n",
    "However, the RMSE on the training set is 3.7, which is pretty high."
   ]
  },
  {
   "cell_type": "markdown",
   "metadata": {
    "id": "5jssEF5eIrdH"
   },
   "source": [
    "**Feature Importance**"
   ]
  },
  {
   "cell_type": "code",
   "execution_count": 28,
   "metadata": {
    "id": "OdzQWq8WtOTA"
   },
   "outputs": [
    {
     "name": "stdout",
     "output_type": "stream",
     "text": [
      "                       Importance Score\n",
      "Power                          0.695023\n",
      "Year                           0.200072\n",
      "New_price                      0.063771\n",
      "kilometers_driven_log          0.007814\n",
      "Brand_Honda                    0.007163\n",
      "...                                 ...\n",
      "Model_D-MAX                    0.000000\n",
      "Model_Duster                   0.000000\n",
      "Model_Dzire                    0.000000\n",
      "Model_E                        0.000000\n",
      "Model_redi-GO                  0.000000\n",
      "\n",
      "[275 rows x 1 columns]\n"
     ]
    }
   ],
   "source": [
    "print(pd.DataFrame(dtree_tuned.feature_importances_, columns = [\"Importance Score\"], index = X_train.columns).sort_values(by = 'Importance Score', ascending = False))"
   ]
  },
  {
   "cell_type": "markdown",
   "metadata": {
    "id": "-r8AR_VotOTB"
   },
   "source": [
    "**Observations and insights:**\n",
    "\n",
    "The most important feature by far in this model is Power, with an importance score of 0.695. The other two features with somewhat importance are Year and New_price, with importance scores of 0.2 and 0.06, respectively."
   ]
  },
  {
   "cell_type": "markdown",
   "metadata": {
    "id": "18uxHTy2tOTB"
   },
   "source": [
    "### **Hyperparameter Tuning: Random Forest**"
   ]
  },
  {
   "cell_type": "code",
   "execution_count": 38,
   "metadata": {
    "id": "4P_Mj0JYtOTC"
   },
   "outputs": [
    {
     "data": {
      "text/html": [
       "<style>#sk-container-id-9 {color: black;}#sk-container-id-9 pre{padding: 0;}#sk-container-id-9 div.sk-toggleable {background-color: white;}#sk-container-id-9 label.sk-toggleable__label {cursor: pointer;display: block;width: 100%;margin-bottom: 0;padding: 0.3em;box-sizing: border-box;text-align: center;}#sk-container-id-9 label.sk-toggleable__label-arrow:before {content: \"▸\";float: left;margin-right: 0.25em;color: #696969;}#sk-container-id-9 label.sk-toggleable__label-arrow:hover:before {color: black;}#sk-container-id-9 div.sk-estimator:hover label.sk-toggleable__label-arrow:before {color: black;}#sk-container-id-9 div.sk-toggleable__content {max-height: 0;max-width: 0;overflow: hidden;text-align: left;background-color: #f0f8ff;}#sk-container-id-9 div.sk-toggleable__content pre {margin: 0.2em;color: black;border-radius: 0.25em;background-color: #f0f8ff;}#sk-container-id-9 input.sk-toggleable__control:checked~div.sk-toggleable__content {max-height: 200px;max-width: 100%;overflow: auto;}#sk-container-id-9 input.sk-toggleable__control:checked~label.sk-toggleable__label-arrow:before {content: \"▾\";}#sk-container-id-9 div.sk-estimator input.sk-toggleable__control:checked~label.sk-toggleable__label {background-color: #d4ebff;}#sk-container-id-9 div.sk-label input.sk-toggleable__control:checked~label.sk-toggleable__label {background-color: #d4ebff;}#sk-container-id-9 input.sk-hidden--visually {border: 0;clip: rect(1px 1px 1px 1px);clip: rect(1px, 1px, 1px, 1px);height: 1px;margin: -1px;overflow: hidden;padding: 0;position: absolute;width: 1px;}#sk-container-id-9 div.sk-estimator {font-family: monospace;background-color: #f0f8ff;border: 1px dotted black;border-radius: 0.25em;box-sizing: border-box;margin-bottom: 0.5em;}#sk-container-id-9 div.sk-estimator:hover {background-color: #d4ebff;}#sk-container-id-9 div.sk-parallel-item::after {content: \"\";width: 100%;border-bottom: 1px solid gray;flex-grow: 1;}#sk-container-id-9 div.sk-label:hover label.sk-toggleable__label {background-color: #d4ebff;}#sk-container-id-9 div.sk-serial::before {content: \"\";position: absolute;border-left: 1px solid gray;box-sizing: border-box;top: 0;bottom: 0;left: 50%;z-index: 0;}#sk-container-id-9 div.sk-serial {display: flex;flex-direction: column;align-items: center;background-color: white;padding-right: 0.2em;padding-left: 0.2em;position: relative;}#sk-container-id-9 div.sk-item {position: relative;z-index: 1;}#sk-container-id-9 div.sk-parallel {display: flex;align-items: stretch;justify-content: center;background-color: white;position: relative;}#sk-container-id-9 div.sk-item::before, #sk-container-id-9 div.sk-parallel-item::before {content: \"\";position: absolute;border-left: 1px solid gray;box-sizing: border-box;top: 0;bottom: 0;left: 50%;z-index: -1;}#sk-container-id-9 div.sk-parallel-item {display: flex;flex-direction: column;z-index: 1;position: relative;background-color: white;}#sk-container-id-9 div.sk-parallel-item:first-child::after {align-self: flex-end;width: 50%;}#sk-container-id-9 div.sk-parallel-item:last-child::after {align-self: flex-start;width: 50%;}#sk-container-id-9 div.sk-parallel-item:only-child::after {width: 0;}#sk-container-id-9 div.sk-dashed-wrapped {border: 1px dashed gray;margin: 0 0.4em 0.5em 0.4em;box-sizing: border-box;padding-bottom: 0.4em;background-color: white;}#sk-container-id-9 div.sk-label label {font-family: monospace;font-weight: bold;display: inline-block;line-height: 1.2em;}#sk-container-id-9 div.sk-label-container {text-align: center;}#sk-container-id-9 div.sk-container {/* jupyter's `normalize.less` sets `[hidden] { display: none; }` but bootstrap.min.css set `[hidden] { display: none !important; }` so we also need the `!important` here to be able to override the default hidden behavior on the sphinx rendered scikit-learn.org. See: https://github.com/scikit-learn/scikit-learn/issues/21755 */display: inline-block !important;position: relative;}#sk-container-id-9 div.sk-text-repr-fallback {display: none;}</style><div id=\"sk-container-id-9\" class=\"sk-top-container\"><div class=\"sk-text-repr-fallback\"><pre>RandomForestRegressor(max_leaf_nodes=15, min_samples_leaf=10, random_state=1)</pre><b>In a Jupyter environment, please rerun this cell to show the HTML representation or trust the notebook. <br />On GitHub, the HTML representation is unable to render, please try loading this page with nbviewer.org.</b></div><div class=\"sk-container\" hidden><div class=\"sk-item\"><div class=\"sk-estimator sk-toggleable\"><input class=\"sk-toggleable__control sk-hidden--visually\" id=\"sk-estimator-id-9\" type=\"checkbox\" checked><label for=\"sk-estimator-id-9\" class=\"sk-toggleable__label sk-toggleable__label-arrow\">RandomForestRegressor</label><div class=\"sk-toggleable__content\"><pre>RandomForestRegressor(max_leaf_nodes=15, min_samples_leaf=10, random_state=1)</pre></div></div></div></div></div>"
      ],
      "text/plain": [
       "RandomForestRegressor(max_leaf_nodes=15, min_samples_leaf=10, random_state=1)"
      ]
     },
     "execution_count": 38,
     "metadata": {},
     "output_type": "execute_result"
    }
   ],
   "source": [
    "forest_tuned = RandomForestRegressor(random_state = 1)\n",
    "\n",
    "# Dictionary of parameters to choose from\n",
    "parameters = {\"max_depth\": [None, 10, 20], \"min_samples_leaf\": [1, 5, 10], \"max_leaf_nodes\": [10, 15]}\n",
    "\n",
    "# Run the grid search\n",
    "grid_obj = GridSearchCV(estimator = forest_tuned, param_grid = parameters, scoring=\"neg_mean_squared_error\", cv=5, n_jobs=-1)\n",
    "grid_obj = grid_obj.fit(X_train, y_train['price_log'])\n",
    "\n",
    "# Set the model to the best combination of parameters\n",
    "forest_tuned = grid_obj.best_estimator_\n",
    "forest_tuned.fit(X_train, y_train['price_log'])"
   ]
  },
  {
   "cell_type": "code",
   "execution_count": 39,
   "metadata": {
    "id": "HSBtYgpctOTC"
   },
   "outputs": [
    {
     "name": "stdout",
     "output_type": "stream",
     "text": [
      "R-sqaure on training set :  0.7651397680904627\n",
      "R-square on test set :  0.7191151895889665\n",
      "RMSE on training set :  5.206584227723524\n",
      "RMSE on test set :  5.671941725460772\n"
     ]
    },
    {
     "data": {
      "text/plain": [
       "[0.7651397680904627, 0.7191151895889665, 5.206584227723524, 5.671941725460772]"
      ]
     },
     "execution_count": 39,
     "metadata": {},
     "output_type": "execute_result"
    }
   ],
   "source": [
    "# Get score of the model\n",
    "get_model_score(forest_tuned)"
   ]
  },
  {
   "cell_type": "markdown",
   "metadata": {
    "id": "a1WHqIX9tOTC"
   },
   "source": [
    "**Observations and insights:**\n",
    "\n",
    "The R-squared value is 0.77, which is pretty high and means that the model fits the data well since the R-squared value on the training test and test set are almost similar.\n",
    "\n",
    "The RMSE on the training set is pretty high at 5.2, meaning the model does not really fit that well and can be better options"
   ]
  },
  {
   "cell_type": "markdown",
   "metadata": {
    "id": "ItsgSUyiIrdI"
   },
   "source": [
    "**Feature Importance**"
   ]
  },
  {
   "cell_type": "code",
   "execution_count": 31,
   "metadata": {
    "id": "9khvM2ZhtOTC"
   },
   "outputs": [
    {
     "name": "stdout",
     "output_type": "stream",
     "text": [
      "                    Imp\n",
      "Power          0.749373\n",
      "Year           0.191893\n",
      "New_price      0.044147\n",
      "Engine         0.011125\n",
      "Brand_Honda    0.002417\n",
      "...                 ...\n",
      "Model_Celerio  0.000000\n",
      "Model_Ciaz     0.000000\n",
      "Model_City     0.000000\n",
      "Model_Civic    0.000000\n",
      "Model_redi-GO  0.000000\n",
      "\n",
      "[275 rows x 1 columns]\n"
     ]
    }
   ],
   "source": [
    "print(pd.DataFrame(forest_tuned.feature_importances_, columns = [\"Imp\"], index = X_train.columns).sort_values(by = 'Imp', ascending = False))"
   ]
  },
  {
   "cell_type": "markdown",
   "metadata": {
    "id": "PBoHEXnjtOTC"
   },
   "source": [
    "**Observations:**\n",
    "\n",
    "The importance scores are very similar to the tuned decision tree, as the most important feature is Power, with Year and New_price behind."
   ]
  },
  {
   "cell_type": "code",
   "execution_count": 32,
   "metadata": {
    "id": "DCInk4Y8tOTC"
   },
   "outputs": [],
   "source": [
    "# List of models\n",
    "models = [lr, clf, dtree, regr, dtree_tuned, forest_tuned]\n",
    "\n",
    "r2_train = []\n",
    "r2_test = []\n",
    "rmse_train = []\n",
    "rmse_test = []\n",
    "\n",
    "for model in models:\n",
    "    \n",
    "    j = get_model_score(model, False)\n",
    "    \n",
    "    r2_train.append(j[0])\n",
    "    r2_test.append(j[1])\n",
    "    rmse_train.append(j[2])\n",
    "    rmse_test.append(j[3])"
   ]
  },
  {
   "cell_type": "code",
   "execution_count": 33,
   "metadata": {
    "id": "zuLokC7xtOTD"
   },
   "outputs": [
    {
     "data": {
      "text/html": [
       "<div>\n",
       "<style scoped>\n",
       "    .dataframe tbody tr th:only-of-type {\n",
       "        vertical-align: middle;\n",
       "    }\n",
       "\n",
       "    .dataframe tbody tr th {\n",
       "        vertical-align: top;\n",
       "    }\n",
       "\n",
       "    .dataframe thead th {\n",
       "        text-align: right;\n",
       "    }\n",
       "</style>\n",
       "<table border=\"1\" class=\"dataframe\">\n",
       "  <thead>\n",
       "    <tr style=\"text-align: right;\">\n",
       "      <th></th>\n",
       "      <th>Model</th>\n",
       "      <th>Train_r2</th>\n",
       "      <th>Test_r2</th>\n",
       "      <th>Train_RMSE</th>\n",
       "      <th>Test_RMSE</th>\n",
       "    </tr>\n",
       "  </thead>\n",
       "  <tbody>\n",
       "    <tr>\n",
       "      <th>0</th>\n",
       "      <td>Linear Regression</td>\n",
       "      <td>0.919388</td>\n",
       "      <td>0.864263</td>\n",
       "      <td>3.050342</td>\n",
       "      <td>3.942907</td>\n",
       "    </tr>\n",
       "    <tr>\n",
       "      <th>1</th>\n",
       "      <td>Ridge</td>\n",
       "      <td>0.901984</td>\n",
       "      <td>0.884754</td>\n",
       "      <td>3.363534</td>\n",
       "      <td>3.633120</td>\n",
       "    </tr>\n",
       "    <tr>\n",
       "      <th>2</th>\n",
       "      <td>Decision Tree</td>\n",
       "      <td>0.999908</td>\n",
       "      <td>0.823278</td>\n",
       "      <td>0.102933</td>\n",
       "      <td>4.498970</td>\n",
       "    </tr>\n",
       "    <tr>\n",
       "      <th>3</th>\n",
       "      <td>Random Forest</td>\n",
       "      <td>0.974259</td>\n",
       "      <td>0.864274</td>\n",
       "      <td>1.723712</td>\n",
       "      <td>3.942743</td>\n",
       "    </tr>\n",
       "    <tr>\n",
       "      <th>4</th>\n",
       "      <td>dtree_tuned</td>\n",
       "      <td>0.880974</td>\n",
       "      <td>0.807208</td>\n",
       "      <td>3.706536</td>\n",
       "      <td>4.699077</td>\n",
       "    </tr>\n",
       "    <tr>\n",
       "      <th>5</th>\n",
       "      <td>forest_tuned</td>\n",
       "      <td>0.765140</td>\n",
       "      <td>0.719115</td>\n",
       "      <td>5.206584</td>\n",
       "      <td>5.671942</td>\n",
       "    </tr>\n",
       "  </tbody>\n",
       "</table>\n",
       "</div>"
      ],
      "text/plain": [
       "               Model  Train_r2   Test_r2  Train_RMSE  Test_RMSE\n",
       "0  Linear Regression  0.919388  0.864263    3.050342   3.942907\n",
       "1              Ridge  0.901984  0.884754    3.363534   3.633120\n",
       "2      Decision Tree  0.999908  0.823278    0.102933   4.498970\n",
       "3      Random Forest  0.974259  0.864274    1.723712   3.942743\n",
       "4        dtree_tuned  0.880974  0.807208    3.706536   4.699077\n",
       "5       forest_tuned  0.765140  0.719115    5.206584   5.671942"
      ]
     },
     "execution_count": 33,
     "metadata": {},
     "output_type": "execute_result"
    }
   ],
   "source": [
    "comparison_frame = pd.DataFrame({'Model':['Linear Regression', 'Ridge', 'Decision Tree', 'Random Forest', 'dtree_tuned', 'forest_tuned'], \n",
    "                                          'Train_r2': r2_train,'Test_r2': r2_test,\n",
    "                                          'Train_RMSE': rmse_train,'Test_RMSE': rmse_test}) \n",
    "comparison_frame"
   ]
  },
  {
   "cell_type": "markdown",
   "metadata": {
    "id": "TZrq2E9VtOTD"
   },
   "source": [
    "**Observations:**\n",
    "\n",
    "From this chart, it seems that the most reasonable model to use is Ridge Regression. The R-squared value for the test set is 0.88, which is the highest out of all the models. Also, it has the lowest test RMSE value at 3.63, meaning the model fits the data well."
   ]
  }
 ],
 "metadata": {
  "colab": {
   "collapsed_sections": [
    "a1WHqIX9tOTC",
    "PBoHEXnjtOTC",
    "TZrq2E9VtOTD"
   ],
   "name": "Reference_Notebook_Milestone_2_Regression.ipynb",
   "provenance": []
  },
  "kernelspec": {
   "display_name": "Python 3",
   "language": "python",
   "name": "python3"
  },
  "language_info": {
   "codemirror_mode": {
    "name": "ipython",
    "version": 3
   },
   "file_extension": ".py",
   "mimetype": "text/x-python",
   "name": "python",
   "nbconvert_exporter": "python",
   "pygments_lexer": "ipython3",
   "version": "3.8.9"
  }
 },
 "nbformat": 4,
 "nbformat_minor": 1
}
